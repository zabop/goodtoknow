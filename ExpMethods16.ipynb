{
  "nbformat": 4,
  "nbformat_minor": 0,
  "metadata": {
    "colab": {
      "name": "ExpMethods16.ipynb",
      "provenance": [],
      "collapsed_sections": []
    },
    "kernelspec": {
      "name": "python3",
      "display_name": "Python 3"
    }
  },
  "cells": [
    {
      "cell_type": "code",
      "metadata": {
        "id": "hg3xX6Z3dGNs",
        "colab_type": "code",
        "colab": {}
      },
      "source": [
        "# problem a)"
      ],
      "execution_count": 0,
      "outputs": []
    },
    {
      "cell_type": "code",
      "metadata": {
        "id": "evUzLhelYuaz",
        "colab_type": "code",
        "colab": {}
      },
      "source": [
        "values = [21.61,21.59,21.65,21.40,21.55,21.59]"
      ],
      "execution_count": 0,
      "outputs": []
    },
    {
      "cell_type": "code",
      "metadata": {
        "id": "tuzuCwD8Y2Mn",
        "colab_type": "code",
        "colab": {}
      },
      "source": [
        "errors = [0.02,0.02,0.04,0.10,0.03,0.01]"
      ],
      "execution_count": 0,
      "outputs": []
    },
    {
      "cell_type": "code",
      "metadata": {
        "id": "1z0MJDfIY-6t",
        "colab_type": "code",
        "colab": {}
      },
      "source": [
        "weightedmean = sum([eachvalue/(errors[index]**2) for index, eachvalue in enumerate(values)])/sum([1/each**2 for each in errors])"
      ],
      "execution_count": 0,
      "outputs": []
    },
    {
      "cell_type": "code",
      "metadata": {
        "id": "AOhOTqNOb46l",
        "colab_type": "code",
        "colab": {
          "base_uri": "https://localhost:8080/",
          "height": 35
        },
        "outputId": "6b15d615-1696-490e-9c8e-2a7415ce15a3"
      },
      "source": [
        "print(weightedmean)"
      ],
      "execution_count": 48,
      "outputs": [
        {
          "output_type": "stream",
          "text": [
            "21.59142880712754\n"
          ],
          "name": "stdout"
        }
      ]
    },
    {
      "cell_type": "code",
      "metadata": {
        "id": "QO5qOJ1EcV3I",
        "colab_type": "code",
        "colab": {}
      },
      "source": [
        "variance = 1/sum([1/(each**2) for each in errors])"
      ],
      "execution_count": 0,
      "outputs": []
    },
    {
      "cell_type": "code",
      "metadata": {
        "id": "yNTXvRPgccfp",
        "colab_type": "code",
        "colab": {
          "base_uri": "https://localhost:8080/",
          "height": 35
        },
        "outputId": "dca676e5-2c2a-4fb0-ebcb-f88e2e33f5c6"
      },
      "source": [
        "# so the error in the mean is:\n",
        "print(variance**0.5) "
      ],
      "execution_count": 50,
      "outputs": [
        {
          "output_type": "stream",
          "text": [
            "0.007706889077374132\n"
          ],
          "name": "stdout"
        }
      ]
    },
    {
      "cell_type": "code",
      "metadata": {
        "id": "l5j6DhKkcfnK",
        "colab_type": "code",
        "colab": {}
      },
      "source": [
        "# problem b)"
      ],
      "execution_count": 0,
      "outputs": []
    },
    {
      "cell_type": "code",
      "metadata": {
        "id": "r79Gz82DdKYM",
        "colab_type": "code",
        "colab": {}
      },
      "source": [
        "W = [0,0.5,1,1.5,2,2.5,3,3.5,4,4.5]\n",
        "y = [-1642,-1483,-1300,-1140,-948,-781,-590,-426,-263,-77]"
      ],
      "execution_count": 0,
      "outputs": []
    },
    {
      "cell_type": "code",
      "metadata": {
        "id": "B61c-9OxdRQM",
        "colab_type": "code",
        "colab": {
          "base_uri": "https://localhost:8080/",
          "height": 287
        },
        "outputId": "ce01cb95-8779-4592-d69d-3ccdf0d0e8aa"
      },
      "source": [
        "import matplotlib.pyplot as plt\n",
        "plt.scatter(W,y,marker='+')"
      ],
      "execution_count": 56,
      "outputs": [
        {
          "output_type": "execute_result",
          "data": {
            "text/plain": [
              "<matplotlib.collections.PathCollection at 0x7f439cb454e0>"
            ]
          },
          "metadata": {
            "tags": []
          },
          "execution_count": 56
        },
        {
          "output_type": "display_data",
          "data": {
            "image/png": "[encoded data removed]",
            "text/plain": [
              "<Figure size 432x288 with 1 Axes>"
            ]
          },
          "metadata": {
            "tags": []
          }
        }
      ]
    },
    {
      "cell_type": "code",
      "metadata": {
        "id": "vmu05wMEdqgp",
        "colab_type": "code",
        "colab": {}
      },
      "source": [
        "mean_of_product_of_Wy = sum([eachW*y[index] for index, eachW in enumerate(W)])/len(W)\n",
        "product_of_meanW_and_meany = sum(W)/len(W)*sum(y)/len(y)\n",
        "mean_of_WW = sum([eachW**2 for eachW in W])/len(W)\n",
        "meanW_squared = (sum(W)/len(W))**2"
      ],
      "execution_count": 0,
      "outputs": []
    },
    {
      "cell_type": "code",
      "metadata": {
        "id": "rDo-PNCKeR6l",
        "colab_type": "code",
        "colab": {
          "base_uri": "https://localhost:8080/",
          "height": 35
        },
        "outputId": "9dc0f29c-14ae-4b4f-c6f9-4ad4ea79b4ab"
      },
      "source": [
        "slope = (mean_of_product_of_Wy - product_of_meanW_and_meany) / (mean_of_WW - meanW_squared)\n",
        "print(slope)"
      ],
      "execution_count": 64,
      "outputs": [
        {
          "output_type": "stream",
          "text": [
            "349.2363636363636\n"
          ],
          "name": "stdout"
        }
      ]
    },
    {
      "cell_type": "code",
      "metadata": {
        "id": "wR8RpsjnfT-C",
        "colab_type": "code",
        "colab": {}
      },
      "source": [
        "from numpy import mean as mean"
      ],
      "execution_count": 0,
      "outputs": []
    },
    {
      "cell_type": "code",
      "metadata": {
        "id": "P_Hktk4rggBc",
        "colab_type": "code",
        "colab": {
          "base_uri": "https://localhost:8080/",
          "height": 35
        },
        "outputId": "874b32d1-7e15-4cb4-a784-2088b02aeaca"
      },
      "source": [
        "intercept = (mean_of_WW * mean(y) - mean(W) * mean_of_product_of_Wy) / (mean_of_WW - meanW_squared)\n",
        "print(intercept)"
      ],
      "execution_count": 68,
      "outputs": [
        {
          "output_type": "stream",
          "text": [
            "-1650.7818181818182\n"
          ],
          "name": "stdout"
        }
      ]
    },
    {
      "cell_type": "code",
      "metadata": {
        "id": "v-o_SAwdhBRZ",
        "colab_type": "code",
        "colab": {}
      },
      "source": [
        "sigmasquared = 1/(len(W)-2)*sum([(eachy - (slope * W[index] + intercept))**2 for index, eachy in enumerate(y)])"
      ],
      "execution_count": 0,
      "outputs": []
    },
    {
      "cell_type": "code",
      "metadata": {
        "id": "0uvtfP2OhhN5",
        "colab_type": "code",
        "colab": {
          "base_uri": "https://localhost:8080/",
          "height": 35
        },
        "outputId": "1aad6242-297a-4a3c-c9cd-d8d665d50eb8"
      },
      "source": [
        "sigmasquared_of_slope = sigmasquared / ( len(W) * ((mean_of_WW) - mean(W)*mean(W) ))\n",
        "print(sigmasquared_of_slope**0.5)"
      ],
      "execution_count": 92,
      "outputs": [
        {
          "output_type": "stream",
          "text": [
            "1.8949258037329297\n"
          ],
          "name": "stdout"
        }
      ]
    },
    {
      "cell_type": "code",
      "metadata": {
        "id": "uFteBAkVhl4n",
        "colab_type": "code",
        "colab": {
          "base_uri": "https://localhost:8080/",
          "height": 54
        },
        "outputId": "59b0334f-8d91-4b9d-fca3-825f9604abfa"
      },
      "source": [
        "# checking with stackoverflow:\n",
        "p, V = np.polyfit(W, y, 1, cov=True)\n",
        "print (\"x_1: {} +/- {}\".format(p[0], np.sqrt(V[0][0])))\n",
        "print (\"x_2: {} +/- {}\".format(p[1], np.sqrt(V[1][1])))\n",
        "#from https://stackoverflow.com/q/27634270/8565438"
      ],
      "execution_count": 90,
      "outputs": [
        {
          "output_type": "stream",
          "text": [
            "x_1: 349.23636363636336 +/- 1.8949258037329306\n",
            "x_2: -1650.7818181818166 +/- 5.058067772062456\n"
          ],
          "name": "stdout"
        }
      ]
    },
    {
      "cell_type": "code",
      "metadata": {
        "id": "iY4slKNyhm1r",
        "colab_type": "code",
        "colab": {}
      },
      "source": [
        ""
      ],
      "execution_count": 0,
      "outputs": []
    }
  ]
}